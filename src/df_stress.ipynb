{
 "cells": [
  {
   "metadata": {
    "ExecuteTime": {
     "end_time": "2025-01-29T04:58:39.959921Z",
     "start_time": "2025-01-29T04:58:39.948074Z"
    }
   },
   "cell_type": "code",
   "source": [
    "%load_ext autoreload\n",
    "%autoreload 2"
   ],
   "id": "807e98ef64797e6",
   "outputs": [],
   "execution_count": 2
  },
  {
   "metadata": {
    "ExecuteTime": {
     "end_time": "2025-01-29T04:58:40.047760Z",
     "start_time": "2025-01-29T04:58:39.962716Z"
    }
   },
   "cell_type": "code",
   "source": [
    "import polars as pl\n",
    "from polars import DataFrame\n",
    "import numpy as np\n",
    "from time import perf_counter"
   ],
   "id": "aee95100917d6dfd",
   "outputs": [],
   "execution_count": 3
  },
  {
   "metadata": {
    "ExecuteTime": {
     "end_time": "2025-01-29T06:30:25.509827Z",
     "start_time": "2025-01-29T06:30:25.500350Z"
    }
   },
   "cell_type": "code",
   "source": [
    "seed = 100\n",
    "np.random.seed(seed)"
   ],
   "id": "5f0b4ca90dbfeecb",
   "outputs": [],
   "execution_count": 49
  },
  {
   "metadata": {
    "ExecuteTime": {
     "end_time": "2025-01-29T07:23:55.504456Z",
     "start_time": "2025-01-29T07:23:55.494784Z"
    }
   },
   "cell_type": "code",
   "source": [
    "def gen_rows(count: int):\n",
    "    width = 3\n",
    "    return [\n",
    "        np.random.choice(['a','b','c','d', 'e', 'f', 'g'], count),\n",
    "        np.random.randint(0, 33, (count, width), dtype=np.int32),\n",
    "    ]\n",
    "\n",
    "\n",
    "def load_large_df(data) -> pl.DataFrame:\n",
    "    df = DataFrame(data, schema=[\"name\", \"indices\"])\n",
    "    df = df.with_columns([pl.col(\"indices\").cast(pl.List(pl.Int32))])\n",
    "    return df\n",
    "\n",
    "def queries(db: DataFrame, queries: list[str]) -> list[set[int]]:\n",
    "    nodes_so_far = db.filter(pl.col(\"name\") == queries[0])[\"indices\"].to_list()[0]\n",
    "    for q in queries[1:]:\n",
    "        found_nodes = db.filter(\n",
    "            (pl.col(\"name\") == q)\n",
    "            & (pl.col(\"indices\").list.set_intersection(list(nodes_so_far)).list.len() == 1)\n",
    "        )\n",
    "        nodes_so_far = set(found_nodes[\"indices\"].to_list()[0]).union(nodes_so_far)\n",
    "    return nodes_so_far\n",
    "\n"
   ],
   "id": "d25df5fe64e5237b",
   "outputs": [],
   "execution_count": 74
  },
  {
   "metadata": {
    "ExecuteTime": {
     "end_time": "2025-01-29T07:26:07.176907Z",
     "start_time": "2025-01-29T07:26:07.047954Z"
    }
   },
   "cell_type": "code",
   "source": [
    "data = gen_rows(1_000_000)\n",
    "start = perf_counter()\n",
    "df = load_large_df(data)\n",
    "print(f\"Time that it took: {perf_counter() - start}\")\n",
    "print(df)"
   ],
   "id": "10e6756995e27bcc",
   "outputs": [
    {
     "name": "stdout",
     "output_type": "stream",
     "text": [
      "Time that it took: 0.07667216699337587\n",
      "shape: (1_000_000, 2)\n",
      "┌──────┬──────────────┐\n",
      "│ name ┆ indices      │\n",
      "│ ---  ┆ ---          │\n",
      "│ str  ┆ list[i32]    │\n",
      "╞══════╪══════════════╡\n",
      "│ e    ┆ [27, 30, 31] │\n",
      "│ d    ┆ [15, 9, 5]   │\n",
      "│ a    ┆ [31, 11, 22] │\n",
      "│ e    ┆ [19, 4, 8]   │\n",
      "│ e    ┆ [20, 23, 6]  │\n",
      "│ …    ┆ …            │\n",
      "│ e    ┆ [15, 1, 22]  │\n",
      "│ a    ┆ [5, 14, 22]  │\n",
      "│ c    ┆ [27, 21, 9]  │\n",
      "│ d    ┆ [21, 11, 1]  │\n",
      "│ c    ┆ [5, 26, 24]  │\n",
      "└──────┴──────────────┘\n"
     ]
    }
   ],
   "execution_count": 81
  },
  {
   "metadata": {
    "ExecuteTime": {
     "end_time": "2025-01-29T07:30:16.341827Z",
     "start_time": "2025-01-29T07:30:15.404541Z"
    }
   },
   "cell_type": "code",
   "source": [
    "start = perf_counter()\n",
    "\n",
    "queries(df, [\"a\", \"b\", \"c\", \"a\", \"e\", \"f\", \"g\", \"g\", \"f\",\"c\",\"b\",\"a\",\"d\",\"f\",\"e\",\"d\",\"c\",\"b\",\"a\",\"f\",\"e\",\"d\",\"c\",\"b\",\"a\"])\n",
    "print(f\"Time that it took: {perf_counter() - start}\")\n"
   ],
   "id": "ba9af24e207efbc",
   "outputs": [
    {
     "name": "stdout",
     "output_type": "stream",
     "text": [
      "Time that it took: 0.9263365830411203\n"
     ]
    }
   ],
   "execution_count": 92
  }
 ],
 "metadata": {
  "kernelspec": {
   "display_name": "Python 3",
   "language": "python",
   "name": "python3"
  },
  "language_info": {
   "codemirror_mode": {
    "name": "ipython",
    "version": 2
   },
   "file_extension": ".py",
   "mimetype": "text/x-python",
   "name": "python",
   "nbconvert_exporter": "python",
   "pygments_lexer": "ipython2",
   "version": "2.7.6"
  }
 },
 "nbformat": 4,
 "nbformat_minor": 5
}
