{
 "cells": [
  {
   "metadata": {
    "ExecuteTime": {
     "end_time": "2025-02-02T01:49:08.574858Z",
     "start_time": "2025-02-02T01:49:08.565841Z"
    }
   },
   "cell_type": "code",
   "source": [
    "%load_ext autoreload\n",
    "%autoreload 2"
   ],
   "id": "807e98ef64797e6",
   "outputs": [],
   "execution_count": 1
  },
  {
   "metadata": {
    "ExecuteTime": {
     "end_time": "2025-02-02T01:49:09.667667Z",
     "start_time": "2025-02-02T01:49:09.606999Z"
    }
   },
   "cell_type": "code",
   "source": [
    "import os\n",
    "\n",
    "os.environ['POLARS_MAX_THREADS'] = '1'\n",
    "import polars as pl\n",
    "from polars import DataFrame\n",
    "import numpy as np"
   ],
   "id": "aee95100917d6dfd",
   "outputs": [],
   "execution_count": 2
  },
  {
   "metadata": {
    "ExecuteTime": {
     "end_time": "2025-02-02T01:49:11.864627Z",
     "start_time": "2025-02-02T01:49:11.845678Z"
    }
   },
   "cell_type": "code",
   "source": [
    "seed = 100\n",
    "np.random.seed(seed)"
   ],
   "id": "5f0b4ca90dbfeecb",
   "outputs": [],
   "execution_count": 3
  },
  {
   "metadata": {
    "ExecuteTime": {
     "end_time": "2025-02-02T01:49:13.337161Z",
     "start_time": "2025-02-02T01:49:13.327147Z"
    }
   },
   "cell_type": "code",
   "source": [
    "def gen_rows(count: int):\n",
    "    width = 3\n",
    "    return [\n",
    "        np.random.choice(['a', 'b', 'c', 'd', 'e', 'f', 'g'], count),\n",
    "        np.random.randint(0, 33, (count, width), dtype=np.int32),\n",
    "    ]\n",
    "\n",
    "\n",
    "def load_large_df(data) -> pl.DataFrame:\n",
    "    df = DataFrame(data, schema=[\"name\", \"indices\"])\n",
    "    df = df.with_columns([pl.col(\"indices\").cast(pl.List(pl.Int32))])\n",
    "    return df\n",
    "\n",
    "\n",
    "def queries(db: DataFrame, queries: list[str]) -> list[set[int]]:\n",
    "    nodes_so_far = db.filter(pl.col(\"name\") == queries[0])[\"indices\"].to_list()[0]\n",
    "    for q in queries[1:]:\n",
    "        found_nodes = db.filter(\n",
    "            (pl.col(\"name\") == q)\n",
    "            & (pl.col(\"indices\").list.set_intersection(list(nodes_so_far)).list.len() == 1)\n",
    "        )\n",
    "        nodes_so_far = set(found_nodes[\"indices\"].to_list()[0]).union(nodes_so_far)\n",
    "    return nodes_so_far\n",
    "\n"
   ],
   "id": "d25df5fe64e5237b",
   "outputs": [],
   "execution_count": 4
  },
  {
   "metadata": {
    "ExecuteTime": {
     "end_time": "2025-02-02T01:49:15.925875Z",
     "start_time": "2025-02-02T01:49:15.874042Z"
    }
   },
   "cell_type": "code",
   "source": "data = gen_rows(1_000_000)",
   "id": "75dae6baae55631",
   "outputs": [],
   "execution_count": 5
  },
  {
   "metadata": {
    "ExecuteTime": {
     "end_time": "2025-02-02T01:49:37.108695Z",
     "start_time": "2025-02-02T01:49:30.899827Z"
    }
   },
   "cell_type": "code",
   "source": [
    "%%timeit\n",
    "df = load_large_df(data)\n"
   ],
   "id": "10e6756995e27bcc",
   "outputs": [
    {
     "name": "stdout",
     "output_type": "stream",
     "text": [
      "76.4 ms ± 1.81 ms per loop (mean ± std. dev. of 7 runs, 10 loops each)\n"
     ]
    }
   ],
   "execution_count": 8
  },
  {
   "metadata": {
    "ExecuteTime": {
     "end_time": "2025-02-02T01:50:14.509921Z",
     "start_time": "2025-02-02T01:50:07.209081Z"
    }
   },
   "cell_type": "code",
   "source": [
    "%%timeit\n",
    "queries(df,\n",
    "        [\"a\", \"b\", \"c\", \"a\", \"e\", \"f\", \"g\", \"g\", \"f\", \"c\", \"b\", \"a\", \"d\", \"f\", \"e\", \"d\", \"c\", \"b\", \"a\", \"f\", \"e\", \"d\",\n",
    "         \"c\", \"b\", \"a\"])\n"
   ],
   "id": "ba9af24e207efbc",
   "outputs": [
    {
     "name": "stdout",
     "output_type": "stream",
     "text": [
      "910 ms ± 6.5 ms per loop (mean ± std. dev. of 7 runs, 1 loop each)\n"
     ]
    }
   ],
   "execution_count": 11
  },
  {
   "metadata": {
    "ExecuteTime": {
     "end_time": "2025-02-02T03:55:38.515530Z",
     "start_time": "2025-02-02T03:55:38.325875Z"
    }
   },
   "cell_type": "code",
   "source": [
    "qq = df.filter(\n",
    "    (pl.col(\"name\") == 'a')\n",
    "    & (pl.col(\"indices\").list.set_intersection([0, 2, 3]).list.len() == 1)\n",
    ").lazy()\n",
    "qq.show_graph(optimized=False)"
   ],
   "id": "30560dbbc68d2e9d",
   "outputs": [
    {
     "data": {
      "text/plain": [
       "<IPython.core.display.SVG object>"
      ],
      "image/svg+xml": "<svg xmlns=\"http://www.w3.org/2000/svg\" xmlns:xlink=\"http://www.w3.org/1999/xlink\" width=\"68pt\" height=\"49pt\" viewBox=\"0.00 0.00 67.50 49.00\">\n<g id=\"graph0\" class=\"graph\" transform=\"scale(1 1) rotate(0) translate(4 45)\">\n<title>polars_query</title>\n<polygon fill=\"white\" stroke=\"none\" points=\"-4,4 -4,-45 63.5,-45 63.5,4 -4,4\"/>\n<!-- p1 -->\n<g id=\"node1\" class=\"node\">\n<title>p1</title>\n<polygon fill=\"none\" stroke=\"black\" points=\"59.5,-41 0,-41 0,0 59.5,0 59.5,-41\"/>\n<text text-anchor=\"middle\" x=\"29.75\" y=\"-23.7\" font-family=\"Times,serif\" font-size=\"14.00\">TABLE</text>\n<text text-anchor=\"middle\" x=\"29.75\" y=\"-7.2\" font-family=\"Times,serif\" font-size=\"14.00\">π */2</text>\n</g>\n</g>\n</svg>"
     },
     "metadata": {},
     "output_type": "display_data"
    }
   ],
   "execution_count": 16
  }
 ],
 "metadata": {
  "kernelspec": {
   "display_name": "Python 3",
   "language": "python",
   "name": "python3"
  },
  "language_info": {
   "codemirror_mode": {
    "name": "ipython",
    "version": 2
   },
   "file_extension": ".py",
   "mimetype": "text/x-python",
   "name": "python",
   "nbconvert_exporter": "python",
   "pygments_lexer": "ipython2",
   "version": "2.7.6"
  }
 },
 "nbformat": 4,
 "nbformat_minor": 5
}
